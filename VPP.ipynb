{
 "cells": [
  {
   "cell_type": "code",
   "execution_count": null,
   "id": "38b1b0bd",
   "metadata": {},
   "outputs": [],
   "source": [
    "import pandas as pd\n",
    "from sklearn.linear_model import LinearRegression\n",
    "from sklearn.model_selection import train_test_split\n",
    "import matplotlib.pyplot as plt\n",
    "import numpy as np"
   ]
  },
  {
   "cell_type": "code",
   "execution_count": null,
   "id": "ec22f40a",
   "metadata": {},
   "outputs": [],
   "source": [
    "df = pd.read_csv(\"compiled_report.csv\")"
   ]
  },
  {
   "attachments": {},
   "cell_type": "markdown",
   "id": "7e825587",
   "metadata": {},
   "source": [
    "##### Variables that will be provided by the user."
   ]
  },
  {
   "cell_type": "code",
   "execution_count": null,
   "id": "1dbe9c13",
   "metadata": {},
   "outputs": [],
   "source": [
    "vaccine = 'BCG'\n",
    "state = 'Haryana'\n",
    "year = 2028"
   ]
  },
  {
   "attachments": {},
   "cell_type": "markdown",
   "id": "755d6a0a",
   "metadata": {},
   "source": [
    "##### Finding the rows that need to be analyzed."
   ]
  },
  {
   "cell_type": "code",
   "execution_count": null,
   "id": "b1b50c88",
   "metadata": {},
   "outputs": [],
   "source": [
    "i=0\n",
    "initial=-1\n",
    "final=-1\n",
    "for index, row in df.iterrows():\n",
    "    if(row['VACCINE']==vaccine and row['STATE']==state):\n",
    "        if(initial==-1): initial=i\n",
    "        final=i+1\n",
    "    elif(final!=-1): break\n",
    "    i+=1"
   ]
  },
  {
   "attachments": {},
   "cell_type": "markdown",
   "id": "d4dfe83e",
   "metadata": {},
   "source": [
    "##### Creating a new dataframe for the provided parameters."
   ]
  },
  {
   "cell_type": "code",
   "execution_count": null,
   "id": "64b8ef6d",
   "metadata": {},
   "outputs": [],
   "source": [
    "df = df.iloc[initial:final]\n",
    "df = df.drop(\"STATE\",axis = 1)\n",
    "df = df.drop(\"VACCINE\",axis = 1)\n",
    "df"
   ]
  },
  {
   "cell_type": "code",
   "execution_count": null,
   "id": "97fc09cb",
   "metadata": {},
   "outputs": [],
   "source": [
    "x = df[\"YEAR\"]\n",
    "y = df[\"APPLICANTS\"]\n",
    "z = df[\"VACCINATED\"]\n",
    "inp = np.copy(x)\n",
    "inp = inp.reshape(len(x),1)"
   ]
  },
  {
   "cell_type": "code",
   "execution_count": null,
   "id": "c9096934",
   "metadata": {},
   "outputs": [],
   "source": [
    "output_cases = np.copy(y)\n",
    "output_vaccinated = np.copy(z)"
   ]
  },
  {
   "attachments": {},
   "cell_type": "markdown",
   "id": "5dc582c4",
   "metadata": {},
   "source": [
    "##### Defining the Linear Regression Models for the dataframe."
   ]
  },
  {
   "cell_type": "code",
   "execution_count": null,
   "id": "5908bb15",
   "metadata": {},
   "outputs": [],
   "source": [
    "np.random.seed(42)\n",
    "x_train,x_test,y_train,y_test = train_test_split(inp,output_cases,test_size = 1)\n",
    "x1_train,x1_test,y1_train,y1_test = train_test_split(inp,output_vaccinated,test_size = 1)\n",
    "reg1 = LinearRegression().fit(x_train, y_train)#model for cases\n",
    "reg2 = LinearRegression().fit(x1_train, y1_train)#model for vaccinated"
   ]
  },
  {
   "cell_type": "code",
   "execution_count": null,
   "id": "184d816e",
   "metadata": {},
   "outputs": [],
   "source": [
    "x=x.to_list()\n",
    "y=y.to_list()\n",
    "z=z.to_list()"
   ]
  },
  {
   "attachments": {},
   "cell_type": "markdown",
   "id": "d1cce56e",
   "metadata": {},
   "source": [
    "##### Preciting the need that will arise in the following years"
   ]
  },
  {
   "cell_type": "code",
   "execution_count": null,
   "id": "94d8ca99",
   "metadata": {
    "scrolled": true
   },
   "outputs": [],
   "source": [
    "prediction_data = {}\n",
    "last_year = x[-1]\n",
    "for i in range (last_year+1,year+1):\n",
    "    cases = int(np.trunc(reg1.predict([[i]])))\n",
    "    prediction_data[i] = [cases]\n",
    "    x.append(i)\n",
    "    y.append(cases)"
   ]
  },
  {
   "attachments": {},
   "cell_type": "markdown",
   "id": "31eec4a4",
   "metadata": {},
   "source": [
    "##### Predicting the years increase in vaccinations required to complete the goal."
   ]
  },
  {
   "cell_type": "code",
   "execution_count": null,
   "id": "f01c29e3",
   "metadata": {},
   "outputs": [],
   "source": [
    "yearly_increase = int((prediction_data[year][0]-z[-1])/(year-last_year))\n",
    "itr = z[-1]\n",
    "for i in range(last_year+1,year+1):\n",
    "    itr += yearly_increase\n",
    "    z.append(itr)\n",
    "    prediction_data[i].append(itr)\n",
    "prediction_data"
   ]
  },
  {
   "attachments": {},
   "cell_type": "markdown",
   "id": "82b48ff1",
   "metadata": {},
   "source": [
    "##### Predicting the year we will react the goal at current speed."
   ]
  },
  {
   "cell_type": "code",
   "execution_count": null,
   "metadata": {},
   "outputs": [],
   "source": [
    "meet = \"Infinity\"\n",
    "for i in range(last_year+1,3000):\n",
    "    curr_cases = int(np.trunc(reg1.predict([[i]]))) \n",
    "    curr_vacc = int(np.trunc(reg2.predict([[i]])))\n",
    "    if(curr_vacc>=curr_cases):\n",
    "        meet = i\n",
    "print(f\"Expected to meet at {meet}\")"
   ]
  },
  {
   "attachments": {},
   "cell_type": "markdown",
   "id": "83871df6",
   "metadata": {},
   "source": [
    "##### Plotting the graph for future predictions."
   ]
  },
  {
   "cell_type": "code",
   "execution_count": null,
   "id": "cdad5c96",
   "metadata": {},
   "outputs": [],
   "source": [
    "fig,ax = plt.subplots(figsize=(8,5))\n",
    "x = np.array(x)\n",
    "ax.plot(x,y)\n",
    "ax.plot(x,z)\n",
    "ax.set_xticklabels(x.astype(int))\n",
    "ax.set(title = f\"{state} report of {vaccine}\",xlabel = \"Year\",ylabel = \"Cases every year\")"
   ]
  }
 ],
 "metadata": {
  "kernelspec": {
   "display_name": "Python 3 (ipykernel)",
   "language": "python",
   "name": "python3"
  },
  "language_info": {
   "codemirror_mode": {
    "name": "ipython",
    "version": 3
   },
   "file_extension": ".py",
   "mimetype": "text/x-python",
   "name": "python",
   "nbconvert_exporter": "python",
   "pygments_lexer": "ipython3",
   "version": "3.10.6"
  }
 },
 "nbformat": 4,
 "nbformat_minor": 5
}
